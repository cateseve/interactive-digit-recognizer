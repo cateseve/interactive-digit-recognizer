{
 "cells": [
  {
   "cell_type": "code",
   "execution_count": 55,
   "metadata": {},
   "outputs": [
    {
     "data": {
      "application/vnd.jupyter.widget-view+json": {
       "model_id": "437e170644f448eba06269ab1c3026ed",
       "version_major": 2,
       "version_minor": 0
      },
      "text/plain": [
       "Canvas(height=32, layout=Layout(height='auto', width='400px'), sync_image_data=True, width=32)"
      ]
     },
     "metadata": {},
     "output_type": "display_data"
    }
   ],
   "source": [
    "%matplotlib inline\n",
    "from matplotlib import pyplot as plt\n",
    "from ipycanvas import Canvas\n",
    "import copy\n",
    "import numpy as np\n",
    "from scipy import ndimage as ndi\n",
    "\n",
    "canvas_size = 32\n",
    "brush_size = 2\n",
    "\n",
    "image_size = 28\n",
    "\n",
    "canvas = Canvas(width = canvas_size, height = canvas_size, sync_image_data=True)\n",
    "\n",
    "canvas.layout.width = '400px'\n",
    "canvas.layout.height = 'auto'\n",
    "\n",
    "drawing = False\n",
    "\n",
    "def handle_mouse_down(x, y):\n",
    "    global drawing\n",
    "    drawing = True\n",
    "    canvas.fill_rect(x, y, brush_size, height=None)\n",
    "\n",
    "def handle_mouse_move(x, y):\n",
    "    if drawing == True:\n",
    "        canvas.fill_rect(x, y, brush_size, height=None)\n",
    "    else:\n",
    "        pass\n",
    "\n",
    "def handle_mouse_up(x, y):\n",
    "    global drawing\n",
    "    drawing = False\n",
    "    \n",
    "\n",
    "canvas.on_mouse_down(handle_mouse_down)\n",
    "canvas.on_mouse_move(handle_mouse_move)\n",
    "canvas.on_mouse_up(handle_mouse_up)\n",
    "\n",
    "canvas.stroke_style = 'red'\n",
    "canvas.stroke_rect(0, 0, canvas_size, height=None)\n",
    "\n",
    "canvas"
   ]
  },
  {
   "cell_type": "code",
   "execution_count": 69,
   "metadata": {},
   "outputs": [],
   "source": [
    "def grayscale(image_array): #input is a 4-channel image in the form of an array with shape (x_dim, y_dim, n_channels)\n",
    "    \n",
    "    grayscale_image_array = copy.deepcopy(image_array)\n",
    "    \n",
    "    grayscale_image_array = np.ravel(grayscale_image_array) #unrolls the array into a row vector\n",
    "    grayscale_image_array = grayscale_image_array[3:len(grayscale_image_array):4] #selects only the values of the channel of interest\n",
    "    grayscale_image_array = np.reshape(grayscale_image_array, (image_size, image_size)) #repacks the image in a 2D array\n",
    "    \n",
    "    return grayscale_image_array\n",
    "\n",
    "def center(image_array): #input is a grayscale image in the form of an array with shape (x_dim, y_dim)\n",
    "    \n",
    "    center_of_mass = ndi.measurements.center_of_mass(image_array) #calculates the center of mass of the image\n",
    "    roll_factors = (round((image_size)/2 - center_of_mass[0]), #calculates the displacement in the x and y\n",
    "                    round((image_size)/2 - center_of_mass[1])) #directions to center the image\n",
    "    \n",
    "    centered_image_array = copy.deepcopy(image_array)\n",
    "    \n",
    "    centered_image_array = np.roll(centered_image_array, roll_factors[1], axis = 1)\n",
    "    centered_image_array = np.roll(centered_image_array, roll_factors[0], axis = 0)\n",
    "    \n",
    "    return centered_image_array\n",
    "\n",
    "def prepare_NN_input(image_array):\n",
    "    \n",
    "    image_array = grayscale(image_array)\n",
    "    image_array = center(image_array)\n",
    "    \n",
    "    image_array = image_array.astype('float32') / 255 #converts the pixel value range from 0-255 to 0-1\n",
    "    image_array = image_array.reshape((1,image_size**2)) #unrolls the 2D array in a column vector\n",
    "    \n",
    "    return image_array\n",
    "    "
   ]
  },
  {
   "cell_type": "code",
   "execution_count": 70,
   "metadata": {},
   "outputs": [
    {
     "data": {
      "text/plain": [
       "3"
      ]
     },
     "execution_count": 70,
     "metadata": {},
     "output_type": "execute_result"
    }
   ],
   "source": [
    "canvas_array = canvas.get_image_data(2, 2, image_size, image_size)\n",
    "nn_input_array = prepare_NN_input(canvas_array)\n",
    "\n",
    "canvas_drawing_predition = network.predict(nn_input_array)\n",
    "\n",
    "np.argmax(canvas_drawing_predition)"
   ]
  },
  {
   "cell_type": "code",
   "execution_count": 6,
   "metadata": {},
   "outputs": [
    {
     "name": "stderr",
     "output_type": "stream",
     "text": [
      "Using TensorFlow backend.\n",
      "2022-01-01 17:50:27.152403: I tensorflow/core/platform/cpu_feature_guard.cc:145] This TensorFlow binary is optimized with Intel(R) MKL-DNN to use the following CPU instructions in performance critical operations:  SSE4.1 SSE4.2 AVX AVX2 FMA\n",
      "To enable them in non-MKL-DNN operations, rebuild TensorFlow with the appropriate compiler flags.\n",
      "2022-01-01 17:50:27.155934: I tensorflow/core/common_runtime/process_util.cc:115] Creating new thread pool with default inter op setting: 4. Tune using inter_op_parallelism_threads for best performance.\n"
     ]
    },
    {
     "name": "stdout",
     "output_type": "stream",
     "text": [
      "Epoch 1/5\n",
      "60000/60000 [==============================] - 12s 194us/step - loss: 0.2581 - accuracy: 0.9253\n",
      "Epoch 2/5\n",
      "60000/60000 [==============================] - 11s 181us/step - loss: 0.1036 - accuracy: 0.9683\n",
      "Epoch 3/5\n",
      "60000/60000 [==============================] - 11s 183us/step - loss: 0.0676 - accuracy: 0.9797\n",
      "Epoch 4/5\n",
      "60000/60000 [==============================] - 11s 177us/step - loss: 0.0492 - accuracy: 0.9854\n",
      "Epoch 5/5\n",
      "60000/60000 [==============================] - 11s 187us/step - loss: 0.0372 - accuracy: 0.9885\n"
     ]
    },
    {
     "data": {
      "text/plain": [
       "<keras.callbacks.callbacks.History at 0x142df9b90>"
      ]
     },
     "execution_count": 6,
     "metadata": {},
     "output_type": "execute_result"
    }
   ],
   "source": [
    "from keras import models\n",
    "from keras import layers\n",
    "from keras import optimizers\n",
    "from keras.datasets import mnist\n",
    "from keras.utils import to_categorical\n",
    "\n",
    "(train_images, train_labels), (test_images, test_labels) = mnist.load_data()\n",
    "\n",
    "network = models.Sequential()\n",
    "network.add(layers.Dense(512, activation='relu', input_shape=(28 * 28,)))\n",
    "network.add(layers.Dense(10, activation='softmax'))\n",
    "\n",
    "network.compile(optimizer='rmsprop',\n",
    "                loss='categorical_crossentropy',\n",
    "                metrics=['accuracy'])\n",
    "\n",
    "train_images = train_images.reshape((60000, 28 * 28))\n",
    "train_images = train_images.astype('float32') / 255\n",
    "\n",
    "test_images = test_images.reshape((10000, 28 * 28))\n",
    "test_images = test_images.astype('float32') / 255\n",
    "\n",
    "train_labels = to_categorical(train_labels)\n",
    "test_labels = to_categorical(test_labels)\n",
    "\n",
    "network.fit(train_images, train_labels, epochs=5, batch_size=128)"
   ]
  },
  {
   "cell_type": "code",
   "execution_count": null,
   "metadata": {},
   "outputs": [],
   "source": []
  }
 ],
 "metadata": {
  "kernelspec": {
   "display_name": "Python 3 (ipykernel)",
   "language": "python",
   "name": "python3"
  },
  "language_info": {
   "codemirror_mode": {
    "name": "ipython",
    "version": 3
   },
   "file_extension": ".py",
   "mimetype": "text/x-python",
   "name": "python",
   "nbconvert_exporter": "python",
   "pygments_lexer": "ipython3",
   "version": "3.7.11"
  }
 },
 "nbformat": 4,
 "nbformat_minor": 2
}
