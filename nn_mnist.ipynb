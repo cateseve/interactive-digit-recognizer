{
 "cells": [
  {
   "cell_type": "code",
   "execution_count": 26,
   "metadata": {},
   "outputs": [
    {
     "data": {
      "application/vnd.jupyter.widget-view+json": {
       "model_id": "2d21c7681f1f4e6db527839760cb2e31",
       "version_major": 2,
       "version_minor": 0
      },
      "text/plain": [
       "Canvas(height=32, layout=Layout(height='auto', width='400px'), sync_image_data=True, width=32)"
      ]
     },
     "metadata": {},
     "output_type": "display_data"
    }
   ],
   "source": [
    "%matplotlib inline\n",
    "from matplotlib import pyplot as plt\n",
    "from ipycanvas import Canvas\n",
    "import numpy as np\n",
    "from scipy import ndimage as ndi\n",
    "\n",
    "canvas_size = 32\n",
    "brush_size = 2\n",
    "\n",
    "canvas = Canvas(width = canvas_size, height = canvas_size, sync_image_data=True)\n",
    "\n",
    "canvas.layout.width = '400px'\n",
    "canvas.layout.height = 'auto'\n",
    "\n",
    "drawing = False\n",
    "\n",
    "def handle_mouse_down(x, y):\n",
    "    global drawing\n",
    "    drawing = True\n",
    "    canvas.fill_rect(x, y, brush_size, height=None)\n",
    "\n",
    "def handle_mouse_move(x, y):\n",
    "    if drawing == True:\n",
    "        canvas.fill_rect(x, y, brush_size, height=None)\n",
    "    else:\n",
    "        pass\n",
    "\n",
    "def handle_mouse_up(x, y):\n",
    "    global drawing\n",
    "    drawing = False\n",
    "    \n",
    "\n",
    "canvas.on_mouse_down(handle_mouse_down)\n",
    "canvas.on_mouse_move(handle_mouse_move)\n",
    "canvas.on_mouse_up(handle_mouse_up)\n",
    "\n",
    "canvas.stroke_style = 'red'\n",
    "canvas.stroke_rect(0, 0, canvas_size, height=None)\n",
    "\n",
    "canvas"
   ]
  },
  {
   "cell_type": "code",
   "execution_count": 27,
   "metadata": {},
   "outputs": [
    {
     "data": {
      "text/plain": [
       "array([[2.0675680e-08, 3.0717256e-08, 2.1173006e-05, 4.1021821e-07,\n",
       "        3.5702181e-01, 5.0087024e-06, 5.7768232e-01, 4.2793498e-09,\n",
       "        6.5269224e-02, 8.1609698e-11]], dtype=float32)"
      ]
     },
     "execution_count": 27,
     "metadata": {},
     "output_type": "execute_result"
    }
   ],
   "source": [
    "canvas_array = canvas.get_image_data(2, 2, canvas_size-4, canvas_size-4)\n",
    "canvas_array = np.ravel(canvas_array)\n",
    "canvas_array = canvas_array[3:len(canvas_array):4]\n",
    "\n",
    "uncentered_canvas_array = np.reshape(canvas_array, (28, 28))\n",
    "\n",
    "center_of_mass = ndi.measurements.center_of_mass(uncentered_canvas_array)\n",
    "roll_factors = (14 - round(center_of_mass[0]), 14 - round(center_of_mass[1]))\n",
    "\n",
    "centered_input_array = uncentered_canvas_array\n",
    "centered_input_array = np.roll(centered_input_array, roll_factors[1], axis = 1)\n",
    "centered_input_array = np.roll(centered_input_array, roll_factors[0], axis = 0)\n",
    "\n",
    "nn_input_array = centered_input_array.astype('float32') / 255\n",
    "nn_input_array = nn_input_array.reshape((1,784))\n",
    "\n",
    "canvas_drawing_predition = network.predict(nn_input_array)\n",
    "\n",
    "#np.argmax(canvas_drawing_predition)\n",
    "canvas_drawing_predition"
   ]
  },
  {
   "cell_type": "code",
   "execution_count": 1,
   "metadata": {},
   "outputs": [
    {
     "name": "stderr",
     "output_type": "stream",
     "text": [
      "Using TensorFlow backend.\n",
      "2021-12-23 17:34:05.345949: I tensorflow/core/platform/cpu_feature_guard.cc:145] This TensorFlow binary is optimized with Intel(R) MKL-DNN to use the following CPU instructions in performance critical operations:  SSE4.1 SSE4.2 AVX AVX2 FMA\n",
      "To enable them in non-MKL-DNN operations, rebuild TensorFlow with the appropriate compiler flags.\n",
      "2021-12-23 17:34:05.350690: I tensorflow/core/common_runtime/process_util.cc:115] Creating new thread pool with default inter op setting: 4. Tune using inter_op_parallelism_threads for best performance.\n"
     ]
    },
    {
     "name": "stdout",
     "output_type": "stream",
     "text": [
      "Epoch 1/5\n",
      "60000/60000 [==============================] - 11s 178us/step - loss: 0.2551 - accuracy: 0.9258\n",
      "Epoch 2/5\n",
      "60000/60000 [==============================] - 9s 156us/step - loss: 0.1043 - accuracy: 0.9688\n",
      "Epoch 3/5\n",
      "60000/60000 [==============================] - 9s 154us/step - loss: 0.0695 - accuracy: 0.9795\n",
      "Epoch 4/5\n",
      "60000/60000 [==============================] - 9s 152us/step - loss: 0.0509 - accuracy: 0.9849\n",
      "Epoch 5/5\n",
      "60000/60000 [==============================] - 9s 154us/step - loss: 0.0379 - accuracy: 0.9888\n"
     ]
    },
    {
     "data": {
      "text/plain": [
       "<keras.callbacks.callbacks.History at 0x148a1a610>"
      ]
     },
     "execution_count": 1,
     "metadata": {},
     "output_type": "execute_result"
    }
   ],
   "source": [
    "from keras import models\n",
    "from keras import layers\n",
    "from keras import optimizers\n",
    "from keras.datasets import mnist\n",
    "from keras.utils import to_categorical\n",
    "\n",
    "(train_images, train_labels), (test_images, test_labels) = mnist.load_data()\n",
    "\n",
    "network = models.Sequential()\n",
    "network.add(layers.Dense(512, activation='relu', input_shape=(28 * 28,)))\n",
    "network.add(layers.Dense(10, activation='softmax'))\n",
    "\n",
    "network.compile(optimizer='rmsprop',\n",
    "                loss='categorical_crossentropy',\n",
    "                metrics=['accuracy'])\n",
    "\n",
    "train_images = train_images.reshape((60000, 28 * 28))\n",
    "train_images = train_images.astype('float32') / 255\n",
    "\n",
    "test_images = test_images.reshape((10000, 28 * 28))\n",
    "test_images = test_images.astype('float32') / 255\n",
    "\n",
    "train_labels = to_categorical(train_labels)\n",
    "test_labels = to_categorical(test_labels)\n",
    "\n",
    "network.fit(train_images, train_labels, epochs=5, batch_size=128)"
   ]
  },
  {
   "cell_type": "code",
   "execution_count": null,
   "metadata": {},
   "outputs": [],
   "source": []
  }
 ],
 "metadata": {
  "kernelspec": {
   "display_name": "Python 3 (ipykernel)",
   "language": "python",
   "name": "python3"
  },
  "language_info": {
   "codemirror_mode": {
    "name": "ipython",
    "version": 3
   },
   "file_extension": ".py",
   "mimetype": "text/x-python",
   "name": "python",
   "nbconvert_exporter": "python",
   "pygments_lexer": "ipython3",
   "version": "3.7.11"
  }
 },
 "nbformat": 4,
 "nbformat_minor": 2
}
